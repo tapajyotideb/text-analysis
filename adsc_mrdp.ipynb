{
 "cells": [
  {
   "cell_type": "code",
   "execution_count": null,
   "metadata": {},
   "outputs": [],
   "source": [
    "import pandas as pd\n",
    "import re\n",
    "import numpy as np\n",
    "import warnings\n",
    "warnings.filterwarnings(\"ignore\")\n",
    "import os\n",
    "import glob, ntpath"
   ]
  },
  {
   "cell_type": "code",
   "execution_count": null,
   "metadata": {
    "scrolled": true
   },
   "outputs": [],
   "source": [
    "def file_modify(filename, a=None):\n",
    "    with open(filename, 'r+') as file:\n",
    "        content = file.read()\n",
    "        for ch in ['\"']:\n",
    "            if ch in content:\n",
    "                content = content.replace(ch,'')\n",
    "    with open(filename, 'w') as file:\n",
    "        file.write(content)\n",
    "        \n",
    "df = pd.read_csv(\"output/functions.csv\")\n",
    "cols = ['TYPE', 'ASSOC. WITH']\n",
    "df = df[cols]\n",
    "df = df[df['ASSOC. WITH'].notnull()]\n",
    "df.reset_index(drop=True, inplace=True)\n",
    "a = df['ASSOC. WITH'].unique()\n",
    "df = pd.DataFrame(a,columns=['Dialog'])\n",
    "df['Dialog'] = \"     DIALOG=(\" + df['Dialog'] + \")\"\n",
    "df['Version'] = 'VER=0001'\n",
    "df['Reports'] = 'REPORTS=(SUMMARY,PROCESSES)'\n",
    "df.to_csv(\"1.txt\", index=False, header=False)\n",
    "file_modify(\"1.txt\")\n",
    "        "
   ]
  },
  {
   "cell_type": "code",
   "execution_count": null,
   "metadata": {},
   "outputs": [],
   "source": [
    "text = \"C:/Users/TapajyotiDeb/Downloads/mrdp/MRDPADSC.TXT\"\n",
    "\n",
    "with open(text,'r') as file:\n",
    "    content = file.read()\n",
    "    lines = content.split(\"DIALOG...: \")\n",
    "    lines = [x for x in lines if x]\n",
    "\n",
    "dialogname = []\n",
    "schema = []\n",
    "onmap = []\n",
    "inmap = []\n",
    "oumap = []\n",
    "with open(text,'r') as file:\n",
    "    content = file.readlines()\n",
    "    for line in content:\n",
    "        if \"DIALOG...:\" in line:\n",
    "            try:\n",
    "                name = re.search('DIALOG...: (.*) SCHEMA', line).group(1)\n",
    "                dialogname.append(name.strip())\n",
    "            except:\n",
    "                dialogname.append('')\n",
    "        if \"SCHEMA...:\" in line:\n",
    "            try:\n",
    "                name = re.search('SCHEMA...: (.*) ONLINE', line).group(1)\n",
    "                schema.append(name.strip())\n",
    "            except:\n",
    "                schema.append('')\n",
    "        if \"ONLINE MAP:\" in line:\n",
    "            try:\n",
    "                name = re.search('ONLINE MAP: (.*) INPUT', line).group(1)\n",
    "                onmap.append(name.strip())\n",
    "            except:\n",
    "                onmap.append('')\n",
    "        if \"INPUT MAP.:\" in line:\n",
    "            try:\n",
    "                name = re.search('INPUT MAP.: (.*) OUTPUT', line).group(1)\n",
    "                inmap.append(name.strip())\n",
    "            except:\n",
    "                inmap.append('')\n",
    "        if \"OUTPUT MAP\" in line:\n",
    "            try:\n",
    "                name = re.search('OUTPUT MAP:(.*)', line).group(1)\n",
    "                oumap.append(name.strip())\n",
    "            except:\n",
    "                oumap.append('')\n",
    "                \n",
    "df1 = pd.DataFrame(list(zip(dialogname, schema, onmap, inmap, oumap)), columns=['DIALOG', 'SCHEMA', 'ONLINE MAP', 'INPUT MAP', 'OUTPUT MAP'])\n",
    "df1.to_csv(\"output/adsc_dialog.csv\", index=False)"
   ]
  },
  {
   "cell_type": "code",
   "execution_count": null,
   "metadata": {},
   "outputs": [],
   "source": [
    "outname = ntpath.basename(text).split(\".\")[0]\n",
    "newdf =df1[['ONLINE MAP']]\n",
    "newdf.replace('', np.nan, inplace=True)\n",
    "newdf.dropna(inplace=True)\n",
    "newdf.reset_index(drop=True, inplace=True)\n",
    "newdf = \"     MAP=\" + newdf + \",VERSION=0001\"\n",
    "newdf.to_csv(outname+\"MAPS.txt\", index=False, header=False)\n",
    "file_modify(outname+\"MAPS.txt\")"
   ]
  },
  {
   "cell_type": "code",
   "execution_count": null,
   "metadata": {},
   "outputs": [],
   "source": [
    "with open(text,'r') as file:\n",
    "    content = file.read()\n",
    "    lines1 = content.split(\"DIALOG...: \")\n",
    "    lines1 = [x for x in lines1 if x]\n",
    "\n",
    "diname1 = []    \n",
    "diname2 = []\n",
    "diname3 = []\n",
    "for i in range(len(lines1)):\n",
    "    dialog = lines1[i].split(\"\\n\")\n",
    "    dname = dialog[0].split()[0]\n",
    "\n",
    "    for line1 in dialog:\n",
    "        if \"PREMAP PROCESS:\" in line1:\n",
    "            try:\n",
    "                diname1.append(dname)\n",
    "            except:\n",
    "                diname1.append(\"\")\n",
    "    for line1 in dialog:\n",
    "        if \"INCLUDED MODULE:\" in line1:\n",
    "            try:\n",
    "                diname2.append(dname)\n",
    "            except:\n",
    "                diname2.append(\"\")\n",
    "    for line1 in dialog:\n",
    "        if \"RESPONSE PROCESS:\" in line1:\n",
    "            try:\n",
    "                diname3.append(dname)\n",
    "            except:\n",
    "                diname3.append(\"\")\n",
    "pre = pd.DataFrame(diname1, columns=['DIALOG'])\n",
    "inc = pd.DataFrame(diname2, columns=['DIALOG'])\n",
    "rsp = pd.DataFrame(diname3, columns=['DIALOG'])"
   ]
  },
  {
   "cell_type": "code",
   "execution_count": null,
   "metadata": {},
   "outputs": [],
   "source": [
    "df2 = pd.DataFrame()\n",
    "for i in range(len(lines)):\n",
    "    rec= []\n",
    "    vers= []\n",
    "    rtype = []\n",
    "    dialog = lines[i].split(\"\\n\")\n",
    "    dname = dialog[0].split()[0]\n",
    "    for line in dialog:\n",
    "        if \"RECORD...:\" in line:\n",
    "            name = re.search('RECORD...: (.*)', line).group(1)\n",
    "            rec.append(name.split()[0])\n",
    "            vers.append(name.split()[2])\n",
    "            rtype.append(name.split()[3])\n",
    "    df21 = pd.DataFrame(list(zip(rec, vers, rtype)), columns=['RECORD NAME', 'VERSION', 'RECORD TYPE'])\n",
    "    df21.insert(0,'DIALOG','')\n",
    "    df21['DIALOG'] = dname\n",
    "    df2 = pd.concat([df2, df21])\n",
    "df2.to_csv(\"output/adsc_records.csv\", index=False)"
   ]
  },
  {
   "cell_type": "code",
   "execution_count": null,
   "metadata": {},
   "outputs": [],
   "source": [
    "df_cbl = \" \"*12 + \"COPY IDMS \" + df2[['RECORD NAME']]\n",
    "df_cbl.drop_duplicates(inplace=True)\n",
    "df_cbl.to_csv(\"adsc_records.cbl\", index=False, header=False)"
   ]
  },
  {
   "cell_type": "code",
   "execution_count": null,
   "metadata": {},
   "outputs": [],
   "source": [
    "module = []\n",
    "mod_name = []\n",
    "vers = []\n",
    "execute = []\n",
    "event = []\n",
    "desc = []\n",
    "for line in content:\n",
    "    try:\n",
    "        name1 = re.search(\"EXECUTE ON EDIT ERRORS:(.*) CONTROL\", line).group(1)\n",
    "    except:\n",
    "        pass\n",
    "    try:\n",
    "        name2 = re.search(\"CONTROL KEY/EVENT:(.*)\", line).group(1)\n",
    "    except:\n",
    "        pass\n",
    "        \n",
    "    if \"PREMAP PROCESS:\" in line:\n",
    "        try:\n",
    "            v = re.search(\"VERS.:(.*)\", line).group(1)\n",
    "            name = re.search('PREMAP PROCESS:(.*) VERS', line).group(1)\n",
    "            module.append(\"PREMAP PROCESS\")\n",
    "            mod_name.append(name.strip())\n",
    "            vers.append(v.strip())\n",
    "            continue\n",
    "        except:\n",
    "            mod_name.append(\"\")\n",
    "            vers.append(\"\")\n",
    "            continue\n",
    "    if \"INCLUDED MODULE:\" in line:\n",
    "        try:\n",
    "            v = re.search(\"VERS.:(.*)\", line).group(1)\n",
    "            name = re.search('INCLUDED MODULE:(.*) VERS', line).group(1)\n",
    "            module.append(\"INCLUDED MODULE\")\n",
    "            mod_name.append(name.strip())\n",
    "            vers.append(v.strip())\n",
    "            continue\n",
    "        except:\n",
    "            mod_name.append(\"\")\n",
    "            vers.append(\"\")\n",
    "            continue\n",
    "    if \"MODULE DESCRIPTION:\" in line:\n",
    "        try:\n",
    "            name = re.search(\"MODULE DESCRIPTION:(.*)\", line).group(1)\n",
    "            desc.append(name)\n",
    "            continue\n",
    "        except:\n",
    "            desc.append(\"\")\n",
    "            continue\n",
    "    \n",
    "\n",
    "df31 = pd.DataFrame(list(zip(module, mod_name, vers)), columns=['MODULE', 'NAME', 'VERSION'])\n",
    "df31"
   ]
  },
  {
   "cell_type": "code",
   "execution_count": null,
   "metadata": {},
   "outputs": [],
   "source": [
    "with open(text,'r') as file:\n",
    "    content = file.read()\n",
    "    lines1 = content.split(\"DIALOG...: \")\n",
    "    lines1 = [x for x in lines1 if x]\n",
    "\n",
    "diname = []    \n",
    "for i in range(len(lines1)):\n",
    "    dialog = lines1[i].split(\"\\n\")\n",
    "    dname = dialog[0].split()[0]\n",
    "\n",
    "    for line1 in dialog:\n",
    "        if \"PREMAP PROCESS:\" in line1:\n",
    "            try:\n",
    "                diname.append(dname)\n",
    "            except:\n",
    "                diname.append(\"\")\n",
    "        if \"INCLUDED MODULE:\" in line1:\n",
    "            try:\n",
    "                diname.append(dname)\n",
    "            except:\n",
    "                diname.append(\"\")\n",
    "aa = pd.DataFrame(diname, columns=['DIALOG'])\n",
    "df31 = pd.concat([aa, df31], axis=1)\n",
    "df31"
   ]
  },
  {
   "cell_type": "code",
   "execution_count": null,
   "metadata": {},
   "outputs": [],
   "source": [
    "module = []\n",
    "mod_name = []\n",
    "vers = []\n",
    "execute = []\n",
    "event = []\n",
    "desc = []\n",
    "for line in content:\n",
    "    if \"RESPONSE PROCESS:\" in line:\n",
    "        try:\n",
    "            v = re.search(\"VERS.:(.*)\", line).group(1)\n",
    "            name = re.search('RESPONSE PROCESS:(.*) VERS', line).group(1)\n",
    "            module.append(\"RESPONSE PROCESS\")\n",
    "            mod_name.append(name.strip())\n",
    "            vers.append(v.strip())\n",
    "            continue\n",
    "        except:\n",
    "            mod_name.append(\"\")\n",
    "            vers.append(\"\")\n",
    "            continue\n",
    "    if \"EXECUTE ON EDIT ERRORS\" in line:\n",
    "        try:\n",
    "            name1 = re.search(\"EXECUTE ON EDIT ERRORS:(.*) CONTROL\", line).group(1)\n",
    "            name2 = re.search(\"CONTROL KEY/EVENT:(.*)\", line).group(1)\n",
    "            execute.append(name1.strip())\n",
    "            event.append(name2.strip())\n",
    "            continue\n",
    "        except:\n",
    "            execute.append(\"\")\n",
    "            event.append(\"\")\n",
    "            continue\n",
    "    if \"MODULE DESCRIPTION:\" in line:\n",
    "        try:\n",
    "            name = re.search(\"MODULE DESCRIPTION:(.*)\", line).group(1)\n",
    "            desc.append(name)\n",
    "            continue\n",
    "        except:\n",
    "            desc.append(\"\")\n",
    "            continue"
   ]
  },
  {
   "cell_type": "code",
   "execution_count": null,
   "metadata": {},
   "outputs": [],
   "source": [
    "with open(text,'r') as file:\n",
    "    content = file.readlines()\n",
    "counter = 0\n",
    "for line in content:\n",
    "    counter += 1\n",
    "    if \"RESPONSE PROCESS:\" in line:  \n",
    "        break\n",
    "s = ''\n",
    "for line in content[counter-1:]:\n",
    "    s += line"
   ]
  },
  {
   "cell_type": "code",
   "execution_count": null,
   "metadata": {},
   "outputs": [],
   "source": [
    "lines = s.split(\"RESPONSE PROCESS: \")\n",
    "code = []\n",
    "for line in lines[1:]:\n",
    "    if \"CODE:\" in line:\n",
    "        name = re.search(\"CODE: (.*)\\n\",line).group(1)\n",
    "        code.append(name)\n",
    "    elif \"CODE:\" not in line:\n",
    "        code.append(\"\")"
   ]
  },
  {
   "cell_type": "code",
   "execution_count": null,
   "metadata": {},
   "outputs": [],
   "source": [
    "df32 = pd.DataFrame(list(zip(module, mod_name, vers, execute, event, code)), columns=['MODULE', 'NAME', 'VERSION', 'EXECUTE ON EDIT ERRORS', 'CONTROL KEY/EVENT', 'CODE'])\n",
    "df32"
   ]
  },
  {
   "cell_type": "code",
   "execution_count": null,
   "metadata": {},
   "outputs": [],
   "source": [
    "df32 = pd.concat([rsp, df32], axis=1)\n",
    "df32"
   ]
  },
  {
   "cell_type": "code",
   "execution_count": null,
   "metadata": {},
   "outputs": [],
   "source": [
    "a = pd.concat([df31, df32])\n",
    "a.reset_index(drop=True, inplace=True)\n",
    "df3 = a.replace(np.nan, '', regex=True)\n",
    "df3.to_csv(\"output2/processes.csv\", index=False)"
   ]
  },
  {
   "cell_type": "code",
   "execution_count": null,
   "metadata": {},
   "outputs": [],
   "source": [
    "with open(text,'r') as file:\n",
    "    content = file.readlines()\n",
    "counter = 0"
   ]
  },
  {
   "cell_type": "code",
   "execution_count": null,
   "metadata": {},
   "outputs": [],
   "source": [
    "for line in content:\n",
    "    counter += 1\n",
    "    if \"RESPONSE PROCESS:\" in line:  \n",
    "        break\n",
    "s = ''\n",
    "for line in content[counter-1:]:\n",
    "    s += line\n",
    "lines = s.split(\"RESPONSE PROCESS: \")"
   ]
  },
  {
   "cell_type": "code",
   "execution_count": null,
   "metadata": {},
   "outputs": [],
   "source": [
    "def code_logic(lines):\n",
    "    code = []\n",
    "    for i in range(len(lines)-1):\n",
    "        a = lines[i:]\n",
    "        b = a[1].split(\"\\n\")\n",
    "        counter = 0\n",
    "        for item in b:\n",
    "            counter += 1\n",
    "            if \"DATE LAST UPDATED:\" in item:\n",
    "                break\n",
    "        c = b[counter:]\n",
    "        if c == []:\n",
    "            code.append(\"\")\n",
    "            continue\n",
    "        buf = ''\n",
    "        count = 0\n",
    "        for item in range(len(c)):\n",
    "            try:\n",
    "                if ((c[item].split()[0] == '0') and ('000' in c[item].split()[1])) or ('000' in c[item].split()[0]):\n",
    "                    if c[item].split()[1] == '00000100':\n",
    "                        count += 1\n",
    "                        if count > 1:\n",
    "                            break\n",
    "                    buf += c[item] + \"\\n\"\n",
    "            except:\n",
    "                continue\n",
    "        code.append(buf)\n",
    "    return code\n",
    "logic = code_logic(lines)"
   ]
  },
  {
   "cell_type": "code",
   "execution_count": null,
   "metadata": {},
   "outputs": [],
   "source": [
    "df41 = df32[['MODULE', 'NAME']]\n",
    "df42 = pd.DataFrame(logic, columns=['PROCESS/MODULE CODE'])\n",
    "df43 = pd.concat([rsp, df41, df42], axis=1)\n",
    "df43"
   ]
  },
  {
   "cell_type": "code",
   "execution_count": null,
   "metadata": {},
   "outputs": [],
   "source": [
    "counter = 0\n",
    "for line in content:\n",
    "    counter += 1\n",
    "    if \"PREMAP PROCESS:\" in line:  \n",
    "        break\n",
    "s = ''\n",
    "for line in content[counter-1:]:\n",
    "    s += line\n",
    "lines = s.split(\"PREMAP PROCESS: \")"
   ]
  },
  {
   "cell_type": "code",
   "execution_count": null,
   "metadata": {},
   "outputs": [],
   "source": [
    "logic = code_logic(lines)"
   ]
  },
  {
   "cell_type": "code",
   "execution_count": null,
   "metadata": {},
   "outputs": [],
   "source": [
    "df411 = df31[df31['MODULE'] == 'PREMAP PROCESS']\n",
    "df411 = df411[['MODULE', 'NAME']].reset_index(drop=True)\n",
    "df421 = pd.DataFrame(logic, columns=['PROCESS/MODULE CODE'])\n",
    "df44 = pd.concat([pre, df411, df421], axis=1)\n",
    "df44"
   ]
  },
  {
   "cell_type": "code",
   "execution_count": null,
   "metadata": {},
   "outputs": [],
   "source": [
    "counter = 0\n",
    "for line in content:\n",
    "    counter += 1\n",
    "    if \"INCLUDED MODULE:\" in line:  \n",
    "        break\n",
    "s = ''\n",
    "for line in content[counter-1:]:\n",
    "    s += line\n",
    "lines = s.split(\"INCLUDED MODULE: \")"
   ]
  },
  {
   "cell_type": "code",
   "execution_count": null,
   "metadata": {},
   "outputs": [],
   "source": [
    "logic = code_logic(lines)"
   ]
  },
  {
   "cell_type": "code",
   "execution_count": null,
   "metadata": {},
   "outputs": [],
   "source": [
    "df412 = df31[df31['MODULE'] == 'INCLUDED MODULE']\n",
    "df412 = df412[['MODULE', 'NAME']].reset_index(drop=True)\n",
    "df422 = pd.DataFrame(logic, columns=['PROCESS/MODULE CODE'])\n",
    "df45 = pd.concat([inc, df412, df422], axis=1)\n",
    "df45"
   ]
  },
  {
   "cell_type": "code",
   "execution_count": null,
   "metadata": {},
   "outputs": [],
   "source": [
    "df4 = pd.concat([df43, df44, df45])\n",
    "df4.to_csv(\"output2/module_code.csv\", index=False)"
   ]
  },
  {
   "cell_type": "code",
   "execution_count": null,
   "metadata": {},
   "outputs": [],
   "source": [
    "with open(text,'r') as file:\n",
    "    content = file.read()\n",
    "    lines = content.split(\"DIALOG...: \")\n",
    "    lines = [x for x in lines if x]\n",
    "\n",
    "diname = []    \n",
    "for i in range(len(lines)):\n",
    "    dialog = lines[i].split(\"\\n\")\n",
    "    dname = dialog[0].split()[0]\n",
    "\n",
    "    for line in dialog:\n",
    "        if \"RESPONSE PROCESS:\" in line:\n",
    "            try:\n",
    "                diname.append(dname)\n",
    "                continue\n",
    "            except:\n",
    "                diname.append(\"\")"
   ]
  },
  {
   "cell_type": "code",
   "execution_count": null,
   "metadata": {},
   "outputs": [],
   "source": [
    "aa = pd.DataFrame(diname, columns=['DIALOG'])\n",
    "aa"
   ]
  },
  {
   "cell_type": "code",
   "execution_count": null,
   "metadata": {},
   "outputs": [],
   "source": []
  }
 ],
 "metadata": {
  "kernelspec": {
   "display_name": "Python 3",
   "language": "python",
   "name": "python3"
  },
  "language_info": {
   "codemirror_mode": {
    "name": "ipython",
    "version": 3
   },
   "file_extension": ".py",
   "mimetype": "text/x-python",
   "name": "python",
   "nbconvert_exporter": "python",
   "pygments_lexer": "ipython3",
   "version": "3.8.3"
  }
 },
 "nbformat": 4,
 "nbformat_minor": 4
}
